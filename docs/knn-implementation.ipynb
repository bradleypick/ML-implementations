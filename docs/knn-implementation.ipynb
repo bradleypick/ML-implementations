{
 "cells": [
  {
   "cell_type": "markdown",
   "metadata": {},
   "source": [
    "# $k$-NN"
   ]
  },
  {
   "cell_type": "markdown",
   "metadata": {},
   "source": [
    "A first attempt at implementing the $k$ nearest neighbours algorithm."
   ]
  },
  {
   "cell_type": "code",
   "execution_count": 55,
   "metadata": {
    "collapsed": true
   },
   "outputs": [],
   "source": [
    "## Note that this seems to work as expected when all\n",
    "## predictors continuous. Should be able to change metric\n",
    "## and get reasonable results for all categorical.\n",
    "## How it behaves on mix of continuous and categorical\n",
    "## predictors is to be seen but it seems clear it will be\n",
    "## heavily dependent on the amount of variation present\n",
    "## in the continuous \n",
    "\n",
    "import numpy as np\n",
    "\n",
    "class knn_classifier():\n",
    "\n",
    "    def __init__(self, k):\n",
    "\n",
    "        # make the object\n",
    "        # should I be considering more than this?\n",
    "        self.k = k\n",
    "        self.X_train = None\n",
    "        self.y_train = None\n",
    "\n",
    "\n",
    "    def fit(self, y, X):\n",
    "\n",
    "        # should basically just be loading?\n",
    "        # there really isn't anything going on at this stage\n",
    "        self.X_train = X\n",
    "        self.y_train = y\n",
    "\n",
    "\n",
    "    def predict(self, X):\n",
    "\n",
    "        # generate empty array to hold predictions dim: n x 1 array\n",
    "        prediction = np.zeros(X.shape[0])\n",
    "\n",
    "        # loop over all observations (rows) in test set\n",
    "        for i in range(X.shape[0]):\n",
    "\n",
    "            # row-wise computation of vector norm of difference between\n",
    "            # current obs. and all training obs. will be an n x 1 array\n",
    "            distance = np.linalg.norm(self.X_train - X[i,], axis = 1)\n",
    "\n",
    "            # keep the labels of closest k obs. from training set\n",
    "            close_k = self.y_train[np.argsort(distance)][:self.k]\n",
    "\n",
    "            # find the mode of closest obs. labels\n",
    "            values, counts = np.unique(close_k, return_counts=True)\n",
    "\n",
    "            # insert our prediction for ith obs. into ith position of prediciton\n",
    "            prediction[i] = values[np.argmax(counts)]\n",
    "\n",
    "        return prediction.astype(int) ## we are classifying\n",
    "\n",
    "   "
   ]
  },
  {
   "cell_type": "code",
   "execution_count": 56,
   "metadata": {},
   "outputs": [
    {
     "data": {
      "text/plain": [
       "<function matplotlib.pyplot.show>"
      ]
     },
     "execution_count": 56,
     "metadata": {},
     "output_type": "execute_result"
    },
    {
     "data": {
      "image/png": "[encoded data removed]",
      "text/plain": [
       "<matplotlib.figure.Figure at 0x7f6cb8355630>"
      ]
     },
     "metadata": {},
     "output_type": "display_data"
    }
   ],
   "source": [
    "import matplotlib.pyplot as plt\n",
    "%matplotlib inline\n",
    "\n",
    "from sklearn.datasets import load_iris\n",
    "from sklearn.datasets import load_digits\n",
    "from sklearn.neighbors import KNeighborsClassifier\n",
    "from sklearn.model_selection import train_test_split\n",
    "\n",
    "X_total, y_total = load_iris(return_X_y=True)\n",
    "\n",
    "X_train, X_test, y_train, y_test = train_test_split(X_total, y_total, test_size=0.2, random_state=42)\n",
    "\n",
    "out = []\n",
    "\n",
    "for k in range(1, 50):\n",
    "    \n",
    "    sklearn_knn = KNeighborsClassifier(n_neighbors=k)\n",
    "    sklearn_knn.fit(X_train, y_train)\n",
    "    skp = sklearn_knn.predict(X_test)\n",
    "\n",
    "    my_knn = knn_classifier(k=k)\n",
    "    my_knn.fit(y=y_train, X=X_train)\n",
    "    mp = my_knn.predict(X_test)\n",
    "\n",
    "    out.append(np.count_nonzero(skp-mp))\n",
    "    \n",
    "plt.plot(out)\n",
    "plt.show"
   ]
  },
  {
   "cell_type": "markdown",
   "metadata": {},
   "source": [
    "So we are seeing no difference between my implementation an `sklearn`'s version for $k$ between 1 and 50 on the iris dataset. This is encouraging, but far from conclusive evidence that I have done a good job. Lets look at the digits dataset that we used in the first lab of Supervised Learning 1."
   ]
  },
  {
   "cell_type": "code",
   "execution_count": 59,
   "metadata": {
    "scrolled": true
   },
   "outputs": [
    {
     "data": {
      "text/plain": [
       "<function matplotlib.pyplot.show>"
      ]
     },
     "execution_count": 59,
     "metadata": {},
     "output_type": "execute_result"
    },
    {
     "data": {
      "image/png": "[encoded data removed]",
      "text/plain": [
       "<matplotlib.figure.Figure at 0x7f6cb613dcc0>"
      ]
     },
     "metadata": {},
     "output_type": "display_data"
    }
   ],
   "source": [
    "X_total, y_total = load_digits(return_X_y=True)\n",
    "X_train, X_test, y_train, y_test = train_test_split(X_total, y_total, test_size=0.2, random_state=42)\n",
    "\n",
    "out = []\n",
    "\n",
    "for k in range(1, 50):\n",
    "    \n",
    "    sklearn_knn = KNeighborsClassifier(n_neighbors=k)\n",
    "    sklearn_knn.fit(X_train, y_train)\n",
    "    skp = sklearn_knn.predict(X_test)\n",
    "\n",
    "    my_knn = knn_classifier(k=k)\n",
    "    my_knn.fit(y=y_train, X=X_train)\n",
    "    mp = my_knn.predict(X_test)\n",
    "\n",
    "    out.append(np.count_nonzero(skp-mp))\n",
    "    \n",
    "plt.plot(out)\n",
    "plt.show"
   ]
  },
  {
   "cell_type": "code",
   "execution_count": 60,
   "metadata": {},
   "outputs": [
    {
     "data": {
      "text/plain": [
       "32"
      ]
     },
     "execution_count": 60,
     "metadata": {},
     "output_type": "execute_result"
    }
   ],
   "source": [
    "np.asarray(out).argsort()[-1]"
   ]
  },
  {
   "cell_type": "markdown",
   "metadata": {},
   "source": [
    "Okay, so we are seeing that my implementation differs from `sklearn`'s on the digits dataset. Lets look into this discrepancy:"
   ]
  },
  {
   "cell_type": "code",
   "execution_count": 61,
   "metadata": {},
   "outputs": [
    {
     "name": "stdout",
     "output_type": "stream",
     "text": [
      "8\n",
      "2\n"
     ]
    }
   ],
   "source": [
    "sklearn_knn = KNeighborsClassifier(n_neighbors=33)\n",
    "sklearn_knn.fit(X_train, y_train)\n",
    "skp = sklearn_knn.predict(X_test)\n",
    "\n",
    "my_knn = knn_classifier(k=33)\n",
    "my_knn.fit(y=y_train, X=X_train)\n",
    "mp = my_knn.predict(X_test)\n",
    "\n",
    "print(skp[(skp-mp).argsort()[-1]])\n",
    "print(mp[(skp-mp).argsort()[-1]])"
   ]
  },
  {
   "cell_type": "markdown",
   "metadata": {},
   "source": [
    "So `sklearn` thinks this is an 8. My classifier thinks it is a 2. Which is it?"
   ]
  },
  {
   "cell_type": "code",
   "execution_count": 62,
   "metadata": {},
   "outputs": [
    {
     "data": {
      "text/plain": [
       "2"
      ]
     },
     "execution_count": 62,
     "metadata": {},
     "output_type": "execute_result"
    }
   ],
   "source": [
    "y_test[(skp-mp).argsort()[-1]]"
   ]
  },
  {
   "cell_type": "markdown",
   "metadata": {},
   "source": [
    "Wow. Mine is actually right and `sklearn` is wrong. Wild."
   ]
  },
  {
   "cell_type": "markdown",
   "metadata": {},
   "source": [
    "The investigations thus far have been fun but have not been testing the areas where problems are likely to arise: namely when we mix catgorical and continuous variables. "
   ]
  },
  {
   "cell_type": "code",
   "execution_count": null,
   "metadata": {
    "collapsed": true
   },
   "outputs": [],
   "source": []
  }
 ],
 "metadata": {
  "kernelspec": {
   "display_name": "Python 3",
   "language": "python",
   "name": "python3"
  },
  "language_info": {
   "codemirror_mode": {
    "name": "ipython",
    "version": 3
   },
   "file_extension": ".py",
   "mimetype": "text/x-python",
   "name": "python",
   "nbconvert_exporter": "python",
   "pygments_lexer": "ipython3",
   "version": "3.6.3"
  }
 },
 "nbformat": 4,
 "nbformat_minor": 2
}
