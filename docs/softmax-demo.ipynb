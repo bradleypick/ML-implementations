{
 "cells": [
  {
   "cell_type": "code",
   "execution_count": 1,
   "metadata": {
    "collapsed": true
   },
   "outputs": [],
   "source": [
    "from mymlimp.classification import softmax_regression\n",
    "\n",
    "import numpy as np\n",
    "import matplotlib.pyplot as plt\n",
    "% matplotlib inline\n",
    "\n",
    "from sklearn.linear_model import LogisticRegression\n",
    "from sklearn.model_selection import train_test_split\n",
    "import sklearn.datasets"
   ]
  },
  {
   "cell_type": "code",
   "execution_count": 2,
   "metadata": {
    "collapsed": true
   },
   "outputs": [],
   "source": [
    "# load some datasets to check how it works\n",
    "digits = sklearn.datasets.load_digits()\n",
    "X, Xvalidate, y, yvalidate = train_test_split(digits.data, digits.target)\n",
    "\n",
    "iris = sklearn.datasets.load_iris()\n",
    "X_ir, X_ir_val, y_ir, y_ir_val = train_test_split(iris.data, iris.target)"
   ]
  },
  {
   "cell_type": "code",
   "execution_count": 5,
   "metadata": {},
   "outputs": [
    {
     "name": "stderr",
     "output_type": "stream",
     "text": [
      "/home/bradley/anaconda3/lib/python3.6/site-packages/sklearn/linear_model/sag.py:326: ConvergenceWarning: The max_iter was reached which means the coef_ did not converge\n",
      "  \"the coef_ did not converge\", ConvergenceWarning)\n"
     ]
    },
    {
     "data": {
      "text/plain": [
       "LogisticRegression(C=1000, class_weight=None, dual=False, fit_intercept=True,\n",
       "          intercept_scaling=1, max_iter=100, multi_class='multinomial',\n",
       "          n_jobs=1, penalty='l2', random_state=None, solver='saga',\n",
       "          tol=0.0001, verbose=0, warm_start=False)"
      ]
     },
     "execution_count": 5,
     "metadata": {},
     "output_type": "execute_result"
    }
   ],
   "source": [
    "# fit my implementation and sklearn's version on digits\n",
    "my_clf = softmax_regression()\n",
    "clf = LogisticRegression(multi_class='multinomial', solver='saga', C=1000)\n",
    "my_clf.fit(X,y)\n",
    "clf.fit(X,y)"
   ]
  },
  {
   "cell_type": "code",
   "execution_count": 6,
   "metadata": {},
   "outputs": [
    {
     "name": "stderr",
     "output_type": "stream",
     "text": [
      "/home/bradley/anaconda3/lib/python3.6/site-packages/sklearn/linear_model/sag.py:326: ConvergenceWarning: The max_iter was reached which means the coef_ did not converge\n",
      "  \"the coef_ did not converge\", ConvergenceWarning)\n"
     ]
    },
    {
     "data": {
      "text/plain": [
       "LogisticRegression(C=1000, class_weight=None, dual=False, fit_intercept=True,\n",
       "          intercept_scaling=1, max_iter=100, multi_class='multinomial',\n",
       "          n_jobs=1, penalty='l2', random_state=None, solver='saga',\n",
       "          tol=0.0001, verbose=0, warm_start=False)"
      ]
     },
     "execution_count": 6,
     "metadata": {},
     "output_type": "execute_result"
    }
   ],
   "source": [
    "# fit my implementation and sklearn's version on iris\n",
    "my_clf_ir = softmax_regression()\n",
    "clf_ir = LogisticRegression(multi_class='multinomial', solver='saga', C=1000)\n",
    "my_clf_ir.fit(X_ir,y_ir)\n",
    "clf_ir.fit(X_ir,y_ir)"
   ]
  },
  {
   "cell_type": "code",
   "execution_count": 7,
   "metadata": {
    "collapsed": true
   },
   "outputs": [],
   "source": [
    "# score on digits\n",
    "# my implementations accuracy:\n",
    "train_pred = my_clf.predict(X).argmax(axis=1)\n",
    "val_pred = my_clf.predict(Xvalidate).argmax(axis=1)\n",
    "\n",
    "my_train = np.sum(train_pred == y) / len(y)\n",
    "my_val = np.sum(val_pred == yvalidate) / len(yvalidate)\n",
    "\n",
    "# sklearn's accuracy:\n",
    "sk_train = clf.score(X, y)\n",
    "sk_val = clf.score(Xvalidate, yvalidate)"
   ]
  },
  {
   "cell_type": "code",
   "execution_count": 8,
   "metadata": {
    "collapsed": true
   },
   "outputs": [],
   "source": [
    "# score on iris\n",
    "# my implementations accuracy:\n",
    "train_pred_ir = my_clf_ir.predict(X_ir).argmax(axis=1)\n",
    "val_pred_ir = my_clf_ir.predict(X_ir_val).argmax(axis=1)\n",
    "\n",
    "my_train_ir = np.sum(train_pred_ir == y_ir) / len(y_ir)\n",
    "my_val_ir = np.sum(val_pred_ir == y_ir_val) / len(y_ir_val)\n",
    "\n",
    "# sklearn's accuracy:\n",
    "sk_train_ir = clf_ir.score(X_ir, y_ir)\n",
    "sk_val_ir = clf_ir.score(X_ir_val, y_ir_val)"
   ]
  },
  {
   "cell_type": "code",
   "execution_count": 9,
   "metadata": {},
   "outputs": [
    {
     "name": "stdout",
     "output_type": "stream",
     "text": [
      "On the digits dataset:\n",
      "\n",
      "\tMy implementation training accuracy: 100.0\n",
      "\tMy implementation validation accuracy: 96.22222222222221\n",
      "\n",
      "\tSklearn's training accuracy: 99.85152190051967\n",
      "\tSklearn's validation accuracy: 97.11111111111111\n"
     ]
    }
   ],
   "source": [
    "print(\"On the digits dataset:\\n\")\n",
    "print(\"\\tMy implementation training accuracy: {}\".format(100*my_train))\n",
    "print(\"\\tMy implementation validation accuracy: {}\\n\".format(100*my_val))\n",
    "print(\"\\tSklearn's training accuracy: {}\".format(100*sk_train))\n",
    "print(\"\\tSklearn's validation accuracy: {}\".format(100*sk_val))"
   ]
  },
  {
   "cell_type": "code",
   "execution_count": 10,
   "metadata": {},
   "outputs": [
    {
     "name": "stdout",
     "output_type": "stream",
     "text": [
      "On the iris dataset:\n",
      "\n",
      "\tMy implementation training accuracy: 100.0\n",
      "\tMy implementation validation accuracy: 94.73684210526315\n",
      "\n",
      "\tSklearn's training accuracy: 99.10714285714286\n",
      "\tSklearn's validation accuracy: 94.73684210526315\n"
     ]
    }
   ],
   "source": [
    "print(\"On the iris dataset:\\n\")\n",
    "print(\"\\tMy implementation training accuracy: {}\".format(100*my_train_ir))\n",
    "print(\"\\tMy implementation validation accuracy: {}\\n\".format(100*my_val_ir))\n",
    "print(\"\\tSklearn's training accuracy: {}\".format(100*sk_train_ir))\n",
    "print(\"\\tSklearn's validation accuracy: {}\".format(100*sk_val_ir))"
   ]
  },
  {
   "cell_type": "markdown",
   "metadata": {},
   "source": [
    "So my implementation is not doing as well as sklearn's (which is no surprise). At this stage I do not have an explaination for this but hopefully I can find a reason in sklearn's source code.\n",
    "\n",
    "To do:\n",
    "- Stochastic gradient descent.\n",
    "- Line search for step size in descent algorithm(s).\n",
    "- Change of basis functionality for nonlinear boundaries."
   ]
  }
 ],
 "metadata": {
  "kernelspec": {
   "display_name": "Python 3",
   "language": "python",
   "name": "python3"
  },
  "language_info": {
   "codemirror_mode": {
    "name": "ipython",
    "version": 3
   },
   "file_extension": ".py",
   "mimetype": "text/x-python",
   "name": "python",
   "nbconvert_exporter": "python",
   "pygments_lexer": "ipython3",
   "version": "3.6.3"
  }
 },
 "nbformat": 4,
 "nbformat_minor": 2
}
